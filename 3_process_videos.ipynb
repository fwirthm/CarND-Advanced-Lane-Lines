{
 "cells": [
  {
   "cell_type": "markdown",
   "metadata": {},
   "source": [
    "# Self-Driving Car Engineer Nanodegree\n",
    "[![Udacity - Self-Driving Car NanoDegree](https://s3.amazonaws.com/udacity-sdc/github/shield-carnd.svg)](http://www.udacity.com/drive)\n",
    "\n",
    "## Project: **Advanced Lane Finding** \n",
    "\n",
    "## 3. Pipeline (video)"
   ]
  },
  {
   "cell_type": "markdown",
   "metadata": {},
   "source": [
    "### Import Statements"
   ]
  },
  {
   "cell_type": "code",
   "execution_count": 1,
   "metadata": {},
   "outputs": [],
   "source": [
    "import os\n",
    "import pickle as pl\n",
    "import cv2\n",
    "import numpy as np\n",
    "\n",
    "#import everything needed to edit/save/watch video clips\n",
    "from moviepy.editor import VideoFileClip\n",
    "from IPython.display import HTML\n",
    "\n",
    "#import pipeline functions\n",
    "from pipeline_functions import *"
   ]
  },
  {
   "cell_type": "markdown",
   "metadata": {},
   "source": [
    "### Initialisation"
   ]
  },
  {
   "cell_type": "code",
   "execution_count": 2,
   "metadata": {},
   "outputs": [],
   "source": [
    "#create output directories if not existing\n",
    "for path in [\"output_videos\"]:\n",
    "\n",
    "    if not os.path.exists(path):\n",
    "        os.makedirs(path)\n",
    "        \n",
    "#import all necessary params from params directory\n",
    "for file in os.listdir(\"params/\"):\n",
    "        if file[-3:]=='.pl':\n",
    "            paramname = file[:-3]\n",
    "\n",
    "            with open (\"params/\"+file, 'rb') as f:\n",
    "                globals()[paramname] = pl.load(f)"
   ]
  },
  {
   "cell_type": "markdown",
   "metadata": {},
   "source": [
    "### Apply pipeline to all example videos"
   ]
  },
  {
   "cell_type": "code",
   "execution_count": 3,
   "metadata": {},
   "outputs": [
    {
     "name": "stdout",
     "output_type": "stream",
     "text": [
      "[MoviePy] >>>> Building video output_videos/project_video_extract.mp4\n",
      "[MoviePy] Writing video output_videos/project_video_extract.mp4\n"
     ]
    },
    {
     "name": "stderr",
     "output_type": "stream",
     "text": [
      "100%|█████████▉| 1260/1261 [03:23<00:00,  6.19it/s]\n"
     ]
    },
    {
     "name": "stdout",
     "output_type": "stream",
     "text": [
      "[MoviePy] Done.\n",
      "[MoviePy] >>>> Video ready: output_videos/project_video_extract.mp4 \n",
      "\n",
      "CPU times: user 2min 2s, sys: 42.8 s, total: 2min 45s\n",
      "Wall time: 3min 23s\n",
      "[MoviePy] >>>> Building video output_videos/project_video_rewarped.mp4\n",
      "[MoviePy] Writing video output_videos/project_video_rewarped.mp4\n"
     ]
    },
    {
     "name": "stderr",
     "output_type": "stream",
     "text": [
      "100%|█████████▉| 1260/1261 [03:43<00:00,  5.59it/s]\n"
     ]
    },
    {
     "name": "stdout",
     "output_type": "stream",
     "text": [
      "[MoviePy] Done.\n",
      "[MoviePy] >>>> Video ready: output_videos/project_video_rewarped.mp4 \n",
      "\n",
      "CPU times: user 2min 25s, sys: 36.4 s, total: 3min 1s\n",
      "Wall time: 3min 43s\n"
     ]
    }
   ],
   "source": [
    "project_output_extract = 'output_videos/project_video_extract.mp4'\n",
    "project_output_rewarped = 'output_videos/project_video_rewarped.mp4'\n",
    "\n",
    "#clip1 = VideoFileClip(\"input_videos/project_video.mp4\").subclip(0, 5)\n",
    "clip1 = VideoFileClip(\"input_videos/project_video.mp4\")\n",
    "\n",
    "project_clip_extract = clip1.fl_image(extract_original_pixels)\n",
    "%time project_clip_extract.write_videofile(project_output_extract, audio=False)\n",
    "\n",
    "project_clip_rewarped = clip1.fl_image(show_rewarped_fitted_poly)\n",
    "%time project_clip_rewarped.write_videofile(project_output_rewarped, audio=False)"
   ]
  },
  {
   "cell_type": "code",
   "execution_count": 4,
   "metadata": {},
   "outputs": [
    {
     "name": "stdout",
     "output_type": "stream",
     "text": [
      "[MoviePy] >>>> Building video output_videos/challenge_video_extract.mp4\n",
      "[MoviePy] Writing video output_videos/challenge_video_extract.mp4\n"
     ]
    },
    {
     "name": "stderr",
     "output_type": "stream",
     "text": [
      "100%|██████████| 485/485 [01:17<00:00,  6.53it/s]\n"
     ]
    },
    {
     "name": "stdout",
     "output_type": "stream",
     "text": [
      "[MoviePy] Done.\n",
      "[MoviePy] >>>> Video ready: output_videos/challenge_video_extract.mp4 \n",
      "\n",
      "CPU times: user 47 s, sys: 16.8 s, total: 1min 3s\n",
      "Wall time: 1min 18s\n",
      "[MoviePy] >>>> Building video output_videos/challenge_video_rewarped.mp4\n",
      "[MoviePy] Writing video output_videos/challenge_video_rewarped.mp4\n"
     ]
    },
    {
     "name": "stderr",
     "output_type": "stream",
     "text": [
      "100%|██████████| 485/485 [01:20<00:00,  6.29it/s]\n"
     ]
    },
    {
     "name": "stdout",
     "output_type": "stream",
     "text": [
      "[MoviePy] Done.\n",
      "[MoviePy] >>>> Video ready: output_videos/challenge_video_rewarped.mp4 \n",
      "\n",
      "CPU times: user 50.5 s, sys: 14.3 s, total: 1min 4s\n",
      "Wall time: 1min 20s\n"
     ]
    }
   ],
   "source": [
    "challenge_output_extract = 'output_videos/challenge_video_extract.mp4'\n",
    "challenge_output_rewarped = 'output_videos/challenge_video_rewarped.mp4'\n",
    "\n",
    "#clip2 = VideoFileClip(\"input_videos/challenge_video.mp4\").subclip(4.68, 4.7)\n",
    "#clip2 = VideoFileClip(\"input_videos/challenge_video.mp4\").subclip(4.78, 4.8)\n",
    "#clip2 = VideoFileClip(\"input_videos/challenge_video.mp4\").subclip(3, 6)\n",
    "clip2 = VideoFileClip(\"input_videos/challenge_video.mp4\")\n",
    "\n",
    "\n",
    "challenge_clip_extract = clip2.fl_image(extract_original_pixels)\n",
    "%time challenge_clip_extract.write_videofile(challenge_output_extract, audio=False)\n",
    "\n",
    "challenge_clip_rewarped = clip2.fl_image(show_rewarped_fitted_poly)\n",
    "%time challenge_clip_rewarped.write_videofile(challenge_output_rewarped, audio=False)"
   ]
  },
  {
   "cell_type": "code",
   "execution_count": 5,
   "metadata": {},
   "outputs": [
    {
     "name": "stdout",
     "output_type": "stream",
     "text": [
      "[MoviePy] >>>> Building video output_videos/harder_challenge_video_extract.mp4\n",
      "[MoviePy] Writing video output_videos/harder_challenge_video_extract.mp4\n"
     ]
    },
    {
     "name": "stderr",
     "output_type": "stream",
     "text": [
      "100%|█████████▉| 1199/1200 [03:25<00:00,  5.76it/s]\n"
     ]
    },
    {
     "name": "stdout",
     "output_type": "stream",
     "text": [
      "[MoviePy] Done.\n",
      "[MoviePy] >>>> Video ready: output_videos/harder_challenge_video_extract.mp4 \n",
      "\n",
      "CPU times: user 1min 58s, sys: 40.2 s, total: 2min 39s\n",
      "Wall time: 3min 26s\n",
      "[MoviePy] >>>> Building video output_videos/harder_challenge_video_rewarped.mp4\n",
      "[MoviePy] Writing video output_videos/harder_challenge_video_rewarped.mp4\n"
     ]
    },
    {
     "name": "stderr",
     "output_type": "stream",
     "text": [
      "100%|█████████▉| 1199/1200 [03:45<00:00,  5.57it/s]\n"
     ]
    },
    {
     "name": "stdout",
     "output_type": "stream",
     "text": [
      "[MoviePy] Done.\n",
      "[MoviePy] >>>> Video ready: output_videos/harder_challenge_video_rewarped.mp4 \n",
      "\n",
      "CPU times: user 2min 27s, sys: 34.8 s, total: 3min 1s\n",
      "Wall time: 3min 45s\n"
     ]
    }
   ],
   "source": [
    "harder_challenge_output_extract = 'output_videos/harder_challenge_video_extract.mp4'\n",
    "harder_challenge_output_rewarped = 'output_videos/harder_challenge_video_rewarped.mp4'\n",
    "\n",
    "#clip3 = VideoFileClip(\"input_videos/harder_challenge_video.mp4\").subclip(10, 15)\n",
    "clip3 = VideoFileClip(\"input_videos/harder_challenge_video.mp4\")\n",
    "\n",
    "harder_challenge_clip_extract = clip3.fl_image(extract_original_pixels)\n",
    "%time harder_challenge_clip_extract.write_videofile(harder_challenge_output_extract, audio=False)\n",
    "\n",
    "harder_challenge_clip_rewarped = clip3.fl_image(show_rewarped_fitted_poly)\n",
    "%time harder_challenge_clip_rewarped.write_videofile(harder_challenge_output_rewarped, audio=False)"
   ]
  },
  {
   "cell_type": "markdown",
   "metadata": {},
   "source": [
    "### implement smooting into the pipeline"
   ]
  },
  {
   "cell_type": "code",
   "execution_count": 6,
   "metadata": {},
   "outputs": [],
   "source": [
    "class ProcessImageStream:\n",
    "    def __init__(self):\n",
    "        self.Reliability_l = [0, 0, 0, 0, 0, 0, 0, 0, 0, 0]\n",
    "        self.Reliability_r = [0, 0, 0, 0, 0, 0, 0, 0, 0, 0]\n",
    "        \n",
    "        self.Leftfit = [[0, 0, 0], [0, 0, 0], [0, 0, 0], [0, 0, 0], [0, 0, 0], [0, 0, 0], [0, 0, 0], [0, 0, 0], [0, 0, 0], [0, 0, 0]]\n",
    "        self.Rightfit = [[0, 0, 0], [0, 0, 0], [0, 0, 0], [0, 0, 0], [0, 0, 0], [0, 0, 0], [0, 0, 0], [0, 0, 0], [0, 0, 0], [0, 0, 0]]\n",
    "        \n",
    "        self.crv = 1000\n",
    "        self.lastReliableWidth_px = 750\n",
    "        \n",
    "        \n",
    "    def __call__(self, img):\n",
    "        #correct image distortion\n",
    "        img = cv2.undistort(img, mtx, dist, None, None)\n",
    "        \n",
    "        #if the lane is very curvy, a larger region of interest can halp to detect the markings correctly\n",
    "        if self.crv<150:\n",
    "            #extract binary mask\n",
    "            roi = np.array([[(500, 410), (810, 410), (1200, 700), (170, 700)]])\n",
    "            mask = extract_binary_mask(img, roi)\n",
    "            \n",
    "        else:\n",
    "            #extract binary mask\n",
    "            mask = extract_binary_mask(img)\n",
    "\n",
    "        #unwarp the binary mask\n",
    "        unwarped = unwarp(mask, M)\n",
    "\n",
    "        #calculate image with fitted polynomials\n",
    "        rewarped_out_img, reliability_l, reliability_r, left_fit, right_fit, width, crv = \\\n",
    "                                            visualize_polyfit(unwarped, colorize_markings=True,\\\n",
    "                                                              show_windows=False, suppress_noise=True,\\\n",
    "                                                              colorize_lane=True, rewarp=True,\\\n",
    "                                                              show_crv=True, verbose=True,\\\n",
    "                                                              history=[self.Reliability_l, self.Reliability_r,\\\n",
    "                                                                      self.Leftfit, self.Rightfit,\\\n",
    "                                                                      self.lastReliableWidth_px])\n",
    "        \n",
    "        #append newly obtained relibilty and polynomial values to history\n",
    "        self.Reliability_l.pop(0)\n",
    "        self.Reliability_l.append(reliability_l)\n",
    "        \n",
    "        self.Reliability_r.pop(0)\n",
    "        self.Reliability_r.append(reliability_r) \n",
    "        \n",
    "        self.Leftfit.pop(0)\n",
    "        self.Leftfit.append(left_fit)\n",
    "        \n",
    "        self.Rightfit.pop(0)\n",
    "        self.Rightfit.append(right_fit)\n",
    "        \n",
    "        #adapt last reliable width value and curvature\n",
    "        xpix_per_m = 820.0/3.7 \n",
    "        if reliability_l>0.15 and reliability_r>0.15 and width>2.2 and width<5.2:\n",
    "            self.lastReliableWidth_px = width*xpix_per_m\n",
    "            \n",
    "        self.crv = crv\n",
    "        \n",
    "        #overlay original image with detections and return it\n",
    "        final = np.copy(img)\n",
    "        cv2.addWeighted(final, 0.5, rewarped_out_img, 1.0, 0.0, final)\n",
    "        \n",
    "        return final"
   ]
  },
  {
   "cell_type": "code",
   "execution_count": 7,
   "metadata": {},
   "outputs": [
    {
     "name": "stdout",
     "output_type": "stream",
     "text": [
      "[MoviePy] >>>> Building video output_videos/project_video_final.mp4\n",
      "[MoviePy] Writing video output_videos/project_video_final.mp4\n"
     ]
    },
    {
     "name": "stderr",
     "output_type": "stream",
     "text": [
      "100%|█████████▉| 1260/1261 [04:53<00:00,  4.29it/s]\n"
     ]
    },
    {
     "name": "stdout",
     "output_type": "stream",
     "text": [
      "[MoviePy] Done.\n",
      "[MoviePy] >>>> Video ready: output_videos/project_video_final.mp4 \n",
      "\n",
      "CPU times: user 2min 30s, sys: 38.4 s, total: 3min 8s\n",
      "Wall time: 4min 56s\n"
     ]
    }
   ],
   "source": [
    "project_output_final = 'output_videos/project_video_final.mp4'\n",
    "#project_clip = VideoFileClip(\"input_videos/project_video.mp4\").subclip(40, 42)\n",
    "#project_clip = VideoFileClip(\"input_videos/project_video.mp4\").subclip(37, 43)\n",
    "#project_clip = VideoFileClip(\"input_videos/project_video.mp4\").subclip(27, 32)\n",
    "project_clip = VideoFileClip(\"input_videos/project_video.mp4\")\n",
    "project_clip_final = project_clip.fl_image(ProcessImageStream())\n",
    "%time project_clip_final.write_videofile(project_output_final, audio=False)"
   ]
  },
  {
   "cell_type": "code",
   "execution_count": 8,
   "metadata": {},
   "outputs": [
    {
     "name": "stdout",
     "output_type": "stream",
     "text": [
      "[MoviePy] >>>> Building video output_videos/challenge_video_final.mp4\n",
      "[MoviePy] Writing video output_videos/challenge_video_final.mp4\n"
     ]
    },
    {
     "name": "stderr",
     "output_type": "stream",
     "text": [
      "100%|██████████| 485/485 [01:45<00:00,  4.63it/s]\n"
     ]
    },
    {
     "name": "stdout",
     "output_type": "stream",
     "text": [
      "[MoviePy] Done.\n",
      "[MoviePy] >>>> Video ready: output_videos/challenge_video_final.mp4 \n",
      "\n",
      "CPU times: user 52 s, sys: 15.4 s, total: 1min 7s\n",
      "Wall time: 1min 47s\n"
     ]
    }
   ],
   "source": [
    "challenge_output_final = 'output_videos/challenge_video_final.mp4'\n",
    "#challenge_clip = VideoFileClip(\"input_videos/challenge_video.mp4\").subclip(4, 6)\n",
    "#challenge_clip = VideoFileClip(\"input_videos/challenge_video.mp4\").subclip(0, 1)\n",
    "#challenge_clip = VideoFileClip(\"input_videos/challenge_video.mp4\").subclip(0, 0.02)\n",
    "#challenge_clip = VideoFileClip(\"input_videos/challenge_video.mp4\").subclip(5, 6)\n",
    "challenge_clip = VideoFileClip(\"input_videos/challenge_video.mp4\")\n",
    "challenge_clip_final = challenge_clip.fl_image(ProcessImageStream())\n",
    "%time challenge_clip_final.write_videofile(challenge_output_final, audio=False)"
   ]
  },
  {
   "cell_type": "code",
   "execution_count": 9,
   "metadata": {},
   "outputs": [
    {
     "name": "stdout",
     "output_type": "stream",
     "text": [
      "[MoviePy] >>>> Building video output_videos/harder_challenge_video_final.mp4\n",
      "[MoviePy] Writing video output_videos/harder_challenge_video_final.mp4\n"
     ]
    },
    {
     "name": "stderr",
     "output_type": "stream",
     "text": [
      "100%|█████████▉| 1199/1200 [05:28<00:00,  3.92it/s]\n"
     ]
    },
    {
     "name": "stdout",
     "output_type": "stream",
     "text": [
      "[MoviePy] Done.\n",
      "[MoviePy] >>>> Video ready: output_videos/harder_challenge_video_final.mp4 \n",
      "\n",
      "CPU times: user 2min 30s, sys: 37.1 s, total: 3min 8s\n",
      "Wall time: 5min 31s\n"
     ]
    }
   ],
   "source": [
    "harder_challenge_output_final = 'output_videos/harder_challenge_video_final.mp4'\n",
    "harder_challenge_clip = VideoFileClip(\"input_videos/harder_challenge_video.mp4\")\n",
    "#harder_challenge_clip = VideoFileClip(\"input_videos/harder_challenge_video.mp4\").subclip(0, 10)\n",
    "harder_challenge_clip_final = harder_challenge_clip.fl_image(ProcessImageStream())\n",
    "%time harder_challenge_clip_final.write_videofile(harder_challenge_output_final, audio=False)"
   ]
  },
  {
   "cell_type": "code",
   "execution_count": null,
   "metadata": {},
   "outputs": [],
   "source": []
  }
 ],
 "metadata": {
  "kernelspec": {
   "display_name": "Python 3",
   "language": "python",
   "name": "python3"
  },
  "language_info": {
   "codemirror_mode": {
    "name": "ipython",
    "version": 3
   },
   "file_extension": ".py",
   "mimetype": "text/x-python",
   "name": "python",
   "nbconvert_exporter": "python",
   "pygments_lexer": "ipython3",
   "version": "3.6.3"
  }
 },
 "nbformat": 4,
 "nbformat_minor": 2
}
